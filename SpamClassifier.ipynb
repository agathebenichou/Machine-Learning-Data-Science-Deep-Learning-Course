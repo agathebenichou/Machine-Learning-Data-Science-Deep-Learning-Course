{
 "cells": [
  {
   "cell_type": "markdown",
   "metadata": {
    "collapsed": false
   },
   "source": [
    "# Spam Classifier using Naive Bayes"
   ]
  },
  {
   "cell_type": "markdown",
   "metadata": {
    "collapsed": false
   },
   "source": [
    "Use sklearn.naive_bayes to train a spam classifier! \n",
    "\n",
    "Most of the code is just loading our training data into a pandas DataFrame that we can play with:"
   ]
  },
  {
   "cell_type": "code",
   "execution_count": 0,
   "metadata": {
    "collapsed": false
   },
   "outputs": [
   ],
   "source": [
    "import os\n",
    "import io\n",
    "import numpy\n",
    "from pandas import DataFrame\n",
    "from sklearn.feature_extraction.text import CountVectorizer\n",
    "from sklearn.naive_bayes import MultinomialNB\n",
    "\n",
    "# Method to iterate through files, build path name, skip header and return path, msg\n",
    "def readFiles(path):\n",
    "    \n",
    "    # walk through currently directory\n",
    "    for root, dirnames, filenames in os.walk(path):\n",
    "        for filename in filenames:\n",
    "            \n",
    "            # build path name\n",
    "            path = os.path.join(root, filename)\n",
    "\n",
    "            # identify if in email body\n",
    "            inBody = False\n",
    "            \n",
    "            # line array\n",
    "            lines = []\n",
    "            \n",
    "            # open file\n",
    "            f = io.open(path, 'r', encoding='latin1')\n",
    "            \n",
    "            # for every line in the file\n",
    "            for line in f:\n",
    "                \n",
    "                # if in body, append to line array\n",
    "                if inBody:\n",
    "                    lines.append(line)\n",
    "                    \n",
    "                # if line is empty, signal as in body\n",
    "                elif line == '\\n':\n",
    "                    inBody = True\n",
    "            f.close()\n",
    "            \n",
    "            # join all lines followed up next line\n",
    "            message = '\\n'.join(lines)\n",
    "            \n",
    "            # return constructed path name and body of email\n",
    "            yield path, message\n",
    "\n",
    "# Method to build dataframe by appending message\n",
    "def dataFrameFromDirectory(path, classification):\n",
    "    \n",
    "    # rows and index to store data\n",
    "    rows = []\n",
    "    index = []\n",
    "    \n",
    "    # for every email found\n",
    "    for filename, message in readFiles(path):\n",
    "        \n",
    "        # append to dictionary\n",
    "        rows.append({'message': message, 'class': classification})\n",
    "        \n",
    "        # add index key\n",
    "        index.append(filename)\n",
    "\n",
    "    # final dataframe\n",
    "    return DataFrame(rows, index=index)\n",
    "\n",
    "# create DF obj with initial construction\n",
    "data = DataFrame({'message': [], 'class': []})\n",
    "\n",
    "# read in files\n",
    "data = data.append(dataFrameFromDirectory('emails/spam', 'spam'))\n",
    "data = data.append(dataFrameFromDirectory('emails/ham', 'ham'))\n"
   ]
  },
  {
   "cell_type": "markdown",
   "metadata": {
    "collapsed": false
   },
   "source": [
    "Let's have a look at that DataFrame:"
   ]
  },
  {
   "cell_type": "code",
   "execution_count": 2,
   "metadata": {
    "collapsed": false
   },
   "outputs": [
    {
     "data": {
      "text/html": [
       "<div>\n",
       "<style scoped>\n",
       "    .dataframe tbody tr th:only-of-type {\n",
       "        vertical-align: middle;\n",
       "    }\n",
       "\n",
       "    .dataframe tbody tr th {\n",
       "        vertical-align: top;\n",
       "    }\n",
       "\n",
       "    .dataframe thead th {\n",
       "        text-align: right;\n",
       "    }\n",
       "</style>\n",
       "<table border=\"1\" class=\"dataframe\">\n",
       "  <thead>\n",
       "    <tr style=\"text-align: right;\">\n",
       "      <th></th>\n",
       "      <th>message</th>\n",
       "      <th>class</th>\n",
       "    </tr>\n",
       "  </thead>\n",
       "  <tbody>\n",
       "    <tr>\n",
       "      <th>emails/spam/00164.8536500ed9cadc8397a63b697d043c0b</th>\n",
       "      <td>Help wanted.  We are a 14 year old fortune 500...</td>\n",
       "      <td>spam</td>\n",
       "    </tr>\n",
       "    <tr>\n",
       "      <th>emails/spam/00217.43b4ef3d9c56cf42be9c37b546a19e78</th>\n",
       "      <td>&lt;html&gt;&lt;xbody&gt;\\n\\n&lt;hr width = \"100%\"&gt;\\n\\n&lt;cente...</td>\n",
       "      <td>spam</td>\n",
       "    </tr>\n",
       "    <tr>\n",
       "      <th>emails/spam/00080.5a7386cb47846dfef68429241ad80354</th>\n",
       "      <td>This is a multi-part message in MIME format.\\n...</td>\n",
       "      <td>spam</td>\n",
       "    </tr>\n",
       "    <tr>\n",
       "      <th>emails/spam/00037.21cc985cc36d931916863aed24de8c27</th>\n",
       "      <td>&lt;html&gt;\\n\\n\\n\\n&lt;head&gt;\\n\\n&lt;meta http-equiv=\"Cont...</td>\n",
       "      <td>spam</td>\n",
       "    </tr>\n",
       "    <tr>\n",
       "      <th>emails/spam/00085.f63a9484ac582233db057dbb45dc0eaf</th>\n",
       "      <td>HELLO...By reading the short Summary just belo...</td>\n",
       "      <td>spam</td>\n",
       "    </tr>\n",
       "  </tbody>\n",
       "</table>\n",
       "</div>"
      ],
      "text/plain": [
       "                                                                                              message  \\\n",
       "emails/spam/00164.8536500ed9cadc8397a63b697d043c0b  Help wanted.  We are a 14 year old fortune 500...   \n",
       "emails/spam/00217.43b4ef3d9c56cf42be9c37b546a19e78  <html><xbody>\\n\\n<hr width = \"100%\">\\n\\n<cente...   \n",
       "emails/spam/00080.5a7386cb47846dfef68429241ad80354  This is a multi-part message in MIME format.\\n...   \n",
       "emails/spam/00037.21cc985cc36d931916863aed24de8c27  <html>\\n\\n\\n\\n<head>\\n\\n<meta http-equiv=\"Cont...   \n",
       "emails/spam/00085.f63a9484ac582233db057dbb45dc0eaf  HELLO...By reading the short Summary just belo...   \n",
       "\n",
       "                                                   class  \n",
       "emails/spam/00164.8536500ed9cadc8397a63b697d043c0b  spam  \n",
       "emails/spam/00217.43b4ef3d9c56cf42be9c37b546a19e78  spam  \n",
       "emails/spam/00080.5a7386cb47846dfef68429241ad80354  spam  \n",
       "emails/spam/00037.21cc985cc36d931916863aed24de8c27  spam  \n",
       "emails/spam/00085.f63a9484ac582233db057dbb45dc0eaf  spam  "
      ]
     },
     "execution_count": 2,
     "metadata": {
     },
     "output_type": "execute_result"
    }
   ],
   "source": [
    "# explore dataframe\n",
    "data.head()"
   ]
  },
  {
   "cell_type": "markdown",
   "metadata": {
    "collapsed": false
   },
   "source": [
    "Now we will use a CountVectorizer to split up each message into its list of words, and throw that into a MultinomialNB classifier. Call fit() and we've got a trained spam filter ready to go! It's just that easy."
   ]
  },
  {
   "cell_type": "code",
   "execution_count": 3,
   "metadata": {
    "collapsed": false
   },
   "outputs": [
    {
     "data": {
      "text/plain": [
       "MultinomialNB()"
      ]
     },
     "execution_count": 3,
     "metadata": {
     },
     "output_type": "execute_result"
    }
   ],
   "source": [
    "#count how many times each word is found within each email\n",
    "vectorizer = CountVectorizer()\n",
    "counts = vectorizer.fit_transform(data['message'].values)\n",
    "\n",
    "# classify spam or ham by number of words found \n",
    "classifier = MultinomialNB()\n",
    "targets = data['class'].values\n",
    "\n",
    "# fit model with actual data\n",
    "classifier.fit(counts, targets)"
   ]
  },
  {
   "cell_type": "markdown",
   "metadata": {
    "collapsed": false
   },
   "source": [
    "Let's try it out:"
   ]
  },
  {
   "cell_type": "code",
   "execution_count": 4,
   "metadata": {
    "collapsed": false
   },
   "outputs": [
    {
     "data": {
      "text/plain": [
       "array(['spam', 'ham'], dtype='<U4')"
      ]
     },
     "execution_count": 4,
     "metadata": {
     },
     "output_type": "execute_result"
    }
   ],
   "source": [
    "# sample emails\n",
    "examples = ['Free Viagra now!!!', \"Hi Bob, how about a game of golf tomorrow?\"]\n",
    "\n",
    "# to count words\n",
    "example_counts = vectorizer.transform(examples)\n",
    "\n",
    "# to use classifier\n",
    "predictions = classifier.predict(example_counts)\n",
    "predictions"
   ]
  },
  {
   "cell_type": "markdown",
   "metadata": {
    "collapsed": false
   },
   "source": [
    "Apply train/test to this spam classifier - see how well it can predict some subset of the ham and spam emails."
   ]
  },
  {
   "cell_type": "code",
   "execution_count": 8,
   "metadata": {
    "collapsed": false
   },
   "outputs": [
    {
     "data": {
      "text/plain": [
       "0.955"
      ]
     },
     "execution_count": 8,
     "metadata": {
     },
     "output_type": "execute_result"
    }
   ],
   "source": [
    "from sklearn.model_selection import train_test_split\n",
    "\n",
    "# split up datasets 80/20\n",
    "X_train, X_test, y_train, y_test = train_test_split(counts, targets, test_size=0.2)\n",
    "\n",
    "# train model\n",
    "model = classifier.fit(X_train, y_train)\n",
    "\n",
    "# use model to make predictions\n",
    "predictions = classifier.predict(X_test)\n",
    "\n",
    "# generate score\n",
    "model.score(X_test, y_test)"
   ]
  }
 ],
 "metadata": {
  "kernelspec": {
   "display_name": "Python 3 (system-wide)",
   "language": "python",
   "metadata": {
    "cocalc": {
     "description": "Python 3 programming language",
     "priority": 100,
     "url": "https://www.python.org/"
    }
   },
   "name": "python3",
   "resource_dir": "/ext/jupyter/kernels/python3"
  },
  "language_info": {
   "codemirror_mode": {
    "name": "ipython",
    "version": 3
   },
   "file_extension": ".py",
   "mimetype": "text/x-python",
   "name": "python",
   "nbconvert_exporter": "python",
   "pygments_lexer": "ipython3",
   "version": "3.8.5"
  }
 },
 "nbformat": 4,
 "nbformat_minor": 4
}